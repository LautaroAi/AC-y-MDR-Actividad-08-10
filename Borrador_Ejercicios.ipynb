{
  "nbformat": 4,
  "nbformat_minor": 0,
  "metadata": {
    "colab": {
      "provenance": []
    },
    "kernelspec": {
      "name": "python3",
      "display_name": "Python 3"
    },
    "language_info": {
      "name": "python"
    }
  },
  "cells": [
    {
      "cell_type": "markdown",
      "source": [
        "## 1. Desarrollar un diagrama de flujo, por ejemplo usando Dia, o alguna versión online."
      ],
      "metadata": {
        "id": "Xp4IaeGAJ42R"
      }
    },
    {
      "cell_type": "markdown",
      "source": [
        "## 2. Explicar, comentar las sentencias que no tienen comentarios."
      ],
      "metadata": {
        "id": "FDuPxPamJ-KC"
      }
    },
    {
      "cell_type": "markdown",
      "source": [
        "## 3. Implementar en Turbo Asm."
      ],
      "metadata": {
        "id": "mPn_Q_E3KE2t"
      }
    },
    {
      "cell_type": "markdown",
      "source": [
        "## 4. Implementar en linux. De no tener uno, usar Google Colab."
      ],
      "metadata": {
        "id": "BheHe6O-KGu9"
      }
    },
    {
      "cell_type": "markdown",
      "source": [
        "## 5. Pegar las sentencias usadas en linux para compilar y linkear."
      ],
      "metadata": {
        "id": "TzxmKgIhKKj-"
      }
    },
    {
      "cell_type": "markdown",
      "source": [
        "## 6. Investigar y agregar sentencias para ingresar valores por teclado en un par de ejercicios. Fibonacci y verificar números primos, otros…\n",
        "\n"
      ],
      "metadata": {
        "id": "XbU_JbjYKO0f"
      }
    },
    {
      "cell_type": "markdown",
      "source": [
        "## 7. Generar en Google Colab, con la IA, la misma versión de problema, pero resuelto en C.\n"
      ],
      "metadata": {
        "id": "GhLEPqIg_0kj"
      }
    },
    {
      "cell_type": "markdown",
      "source": [
        "## 8. Ejecutar y obtener el programa en lenguaje ensamblador. A partir del Ítem anterior\n"
      ],
      "metadata": {
        "id": "C-Bcm1NtJdW6"
      }
    },
    {
      "cell_type": "markdown",
      "source": [
        "## 9. Comparar las versiones de ensamblador."
      ],
      "metadata": {
        "id": "_o3Ax2QoKa6y"
      }
    },
    {
      "cell_type": "markdown",
      "source": [
        "## 10. Observar situaciones problemáticas e identificar metodología de resolución de problemas."
      ],
      "metadata": {
        "id": "tIYPheq2KdoC"
      }
    }
  ]
}